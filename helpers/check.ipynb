{
 "cells": [
  {
   "cell_type": "code",
   "execution_count": 10,
   "metadata": {},
   "outputs": [
    {
     "name": "stdout",
     "output_type": "stream",
     "text": [
      "https://newsapi.org/v2/top-headlines?apiKey=6f2549f5dca74560a49b6712e4ac8259&country=us&category=finance\n"
     ]
    }
   ],
   "source": [
    "import requests\n",
    "NEWS_API_KEY = \"6f2549f5dca74560a49b6712e4ac8259\"\n",
    "COUNTRIES = {\n",
    "    \"argentina\": \"ar\",\n",
    "    \"australia\": \"au\",\n",
    "    \"austria\": \"at\",\n",
    "    \"belgium\": \"be\",\n",
    "    \"brazil\": \"br\",\n",
    "    \"bulgaria\": \"bg\",\n",
    "    \"canada\": \"ca\",\n",
    "    \"china\": \"cn\",\n",
    "    \"colombia\": \"co\",\n",
    "    \"cuba\": \"cu\",\n",
    "    \"czech republic\": \"cz\",\n",
    "    \"egypt\": \"eg\",\n",
    "    \"france\": \"fr\",\n",
    "    \"germany\": \"de\",\n",
    "    \"greece\": \"gr\",\n",
    "    \"hong kong\": \"hk\",\n",
    "    \"hungary\": \"hu\",\n",
    "    \"india\": \"in\",\n",
    "    \"indonesia\": \"id\",\n",
    "    \"ireland\": \"ie\",\n",
    "    \"israel\": \"il\",\n",
    "    \"italy\": \"it\",\n",
    "    \"japan\": \"jp\",\n",
    "    \"latvia\": \"lv\",\n",
    "    \"lithuania\": \"lt\",\n",
    "    \"malaysia\": \"my\",\n",
    "    \"mexico\": \"mx\",\n",
    "    \"morocco\": \"ma\",\n",
    "    \"netherlands\": \"nl\",\n",
    "    \"new zealand\": \"nz\",\n",
    "    \"nigeria\": \"ng\",\n",
    "    \"norway\": \"no\",\n",
    "    \"philippines\": \"ph\",\n",
    "    \"poland\": \"pl\",\n",
    "    \"portugal\": \"pt\",\n",
    "    \"romania\": \"ro\",\n",
    "    \"russia\": \"ru\",\n",
    "    \"saudi arabia\": \"sa\",\n",
    "    \"serbia\": \"rs\",\n",
    "    \"singapore\": \"sg\",\n",
    "    \"slovakia\": \"sk\",\n",
    "    \"slovenia\": \"si\",\n",
    "    \"south africa\": \"za\",\n",
    "    \"south korea\": \"kr\",\n",
    "    \"sweden\": \"se\",\n",
    "    \"switzerland\": \"ch\",\n",
    "    \"taiwan\": \"tw\",\n",
    "    \"thailand\": \"th\",\n",
    "    \"turkey\": \"tr\",\n",
    "    \"uae\": \"ae\",\n",
    "    \"ukraine\": \"ua\",\n",
    "    \"united kingdom\": \"gb\",\n",
    "    \"united states\": \"us\",\n",
    "    \"venuzuela\": \"ve\"\n",
    "}\n",
    "CATEGORIES = ['politics', 'finance', 'technology', 'sports', 'entertainment', 'health']\n",
    "country = \"united states\"\n",
    "category = \"finance\"\n",
    "# category=None\n",
    "base_url = \"https://newsapi.org/v2/top-headlines\"\n",
    "params = {\n",
    "    'apiKey': NEWS_API_KEY,\n",
    "}\n",
    "\n",
    "if country: params['country'] = COUNTRIES.get(country)\n",
    "if category: params['category'] = category\n",
    "response = requests.get(base_url, params=params)\n",
    "print(response.url)\n",
    "response.raise_for_status()\n",
    "news_data = response.json()"
   ]
  },
  {
   "cell_type": "code",
   "execution_count": 7,
   "metadata": {},
   "outputs": [
    {
     "data": {
      "text/plain": [
       "{'status': 'ok', 'totalResults': 0, 'articles': []}"
      ]
     },
     "execution_count": 7,
     "metadata": {},
     "output_type": "execute_result"
    }
   ],
   "source": [
    "news_data"
   ]
  },
  {
   "cell_type": "code",
   "execution_count": null,
   "metadata": {},
   "outputs": [],
   "source": []
  }
 ],
 "metadata": {
  "kernelspec": {
   "display_name": ".venv",
   "language": "python",
   "name": "python3"
  },
  "language_info": {
   "codemirror_mode": {
    "name": "ipython",
    "version": 3
   },
   "file_extension": ".py",
   "mimetype": "text/x-python",
   "name": "python",
   "nbconvert_exporter": "python",
   "pygments_lexer": "ipython3",
   "version": "3.11.9"
  }
 },
 "nbformat": 4,
 "nbformat_minor": 2
}
